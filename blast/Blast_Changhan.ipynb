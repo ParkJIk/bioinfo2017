{
 "cells": [
  {
   "cell_type": "code",
   "execution_count": 27,
   "metadata": {
    "collapsed": false
   },
   "outputs": [
    {
     "name": "stdout",
     "output_type": "stream",
     "text": [
      "GamakSite1Raw_58480 4463866 k__Bacteria; p__Bacteroidetes; c__Bacteroidia; o__Bacteroidales; f__Porphyromonadaceae; g__; s__\n",
      "\n",
      "GamakSite2Raw_102642 4463866 k__Bacteria; p__Bacteroidetes; c__Bacteroidia; o__Bacteroidales; f__Porphyromonadaceae; g__; s__\n",
      "\n",
      "GamakSite2Raw_39621 354006 k__Bacteria; p__Proteobacteria; c__Alphaproteobacteria; o__Sphingomonadales; f__Erythrobacteraceae; g__Erythrobacter; s__\n",
      "\n",
      "GamakSite1Raw_91546 354006 k__Bacteria; p__Proteobacteria; c__Alphaproteobacteria; o__Sphingomonadales; f__Erythrobacteraceae; g__Erythrobacter; s__\n",
      "\n"
     ]
    }
   ],
   "source": [
    "gamak = open('output.blastn', 'r')\n",
    "taxon = open('GreenGene_135.79_otus_taxonomy.txt', 'r')\n",
    "\n",
    "D1 = {}\n",
    "\n",
    "for a in gamak:\n",
    "    line1 = a.split('\\t')\n",
    "    if line1[0] not in D1.keys():\n",
    "        D1[line1[0]] = line1[1]\n",
    "\n",
    "D2 = {}\n",
    "\n",
    "for b in taxon:\n",
    "    line2 = b.split('\\t')\n",
    "    D2[line2[0]] = line2[1]\n",
    "\n",
    "for key in D1:\n",
    "    print (key,D1[key],D2[D1[key]])\n",
    "\n",
    "gamak.close()\n",
    "taxon.close()"
   ]
  },
  {
   "cell_type": "code",
   "execution_count": null,
   "metadata": {
    "collapsed": true
   },
   "outputs": [],
   "source": []
  }
 ],
 "metadata": {
  "kernelspec": {
   "display_name": "Python 3",
   "language": "python",
   "name": "python3"
  },
  "language_info": {
   "codemirror_mode": {
    "name": "ipython",
    "version": 3
   },
   "file_extension": ".py",
   "mimetype": "text/x-python",
   "name": "python",
   "nbconvert_exporter": "python",
   "pygments_lexer": "ipython3",
   "version": "3.6.0"
  }
 },
 "nbformat": 4,
 "nbformat_minor": 2
}
