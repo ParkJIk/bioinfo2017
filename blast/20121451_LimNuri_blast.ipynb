{
 "cells": [
  {
   "cell_type": "code",
   "execution_count": 53,
   "metadata": {
    "collapsed": false
   },
   "outputs": [
    {
     "name": "stdout",
     "output_type": "stream",
     "text": [
      "Homework #4-1 \n",
      " -----------------------------------------------------------------\n",
      "GamakSite1Raw_58480 \n",
      " k__Bacteria; p__Bacteroidetes; c__Bacteroidia; o__Bacteroidales; f__Porphyromonadaceae; g__; s__\n",
      "GamakSite2Raw_102642 \n",
      " k__Bacteria; p__Bacteroidetes; c__Bacteroidia; o__Bacteroidales; f__Porphyromonadaceae; g__; s__\n",
      "GamakSite2Raw_39621 \n",
      " k__Bacteria; p__Proteobacteria; c__Alphaproteobacteria; o__Sphingomonadales; f__Erythrobacteraceae; g__Erythrobacter; s__\n",
      "GamakSite1Raw_91546 \n",
      " k__Bacteria; p__Proteobacteria; c__Alphaproteobacteria; o__Sphingomonadales; f__Erythrobacteraceae; g__Erythrobacter; s__\n",
      "\n",
      "\n",
      "Homework #4-2 \n",
      " ------------------------------------------------------------------\n",
      "# BLASTP 2.6.0+\n",
      "# Query: F33H1.1b pep:known chromosome:WBcel215:II:10157478:10169262:-1 gene:F33H1.1 transcript:F33H1.1b gene_biotype:protein_coding transcript_biotype:protein_coding\n",
      "# Database: hum\n",
      "# Fields: query acc.ver, subject acc.ver, % identity, alignment length, mismatches, gap opens, q. start, q. end, s. start, s. end, evalue, bit score\n",
      "# 11 hits found\n",
      "F33H1.1b\tRFX3|ENSP00000371434\t36.767\t563\t270\t14\t261\t798\t184\t685\t2.55e-107\t345\n",
      "F33H1.1b\tRFX2|ENSP00000306335\t34.043\t658\t295\t17\t190\t771\t75\t669\t3.50e-106\t342\n",
      "F33H1.1b\tRFX1|ENSP00000254325\t37.846\t325\t180\t4\t476\t783\t599\t918\t1.56e-064\t233\n",
      "F33H1.1b\tRFX1|ENSP00000254325\t72.941\t85\t22\t1\t255\t338\t433\t517\t1.24e-033\t139\n",
      "F33H1.1b\tRFX4|ENSP00000350552\t32.890\t301\t189\t5\t479\t774\t204\t496\t1.31e-040\t159\n",
      "F33H1.1b\tRFX4|ENSP00000350552\t62.195\t82\t30\t1\t256\t336\t66\t147\t6.07e-024\t107\n",
      "F33H1.1b\tRFX6|ENSP00000332208\t30.363\t303\t189\t5\t477\t767\t256\t548\t2.65e-034\t140\n",
      "F33H1.1b\tRFX6|ENSP00000332208\t56.790\t81\t34\t1\t260\t339\t124\t204\t2.41e-021\t99.8\n",
      "F33H1.1b\tRFX7|ENSP00000453281\t54.839\t62\t28\t0\t272\t333\t24\t85\t6.57e-015\t79.0\n",
      "F33H1.1b\tRFX5|ENSP00000290524\t44.706\t85\t41\t4\t275\t357\t108\t188\t8.69e-012\t68.2\n",
      "F33H1.1b\tRFX8|ENSP00000401536\t23.050\t282\t191\t9\t485\t757\t65\t329\t4.20e-005\t46.6\n",
      "# BLASTP 2.6.0+\n",
      "# Query: FBpp0297139 pep:known chromosome:BDGP5:3R:6188233:6203790:-1 gene:FBgn0020379 transcript:FBtr0305997 gene_biotype:protein_coding transcript_biotype:protein_coding\n",
      "# Database: hum\n",
      "# Fields: query acc.ver, subject acc.ver, % identity, alignment length, mismatches, gap opens, q. start, q. end, s. start, s. end, evalue, bit score\n",
      "# 9 hits found\n",
      "FBpp0297139\tRFX3|ENSP00000371434\t56.619\t491\t184\t8\t576\t1055\t184\t656\t0.0\t550\n",
      "FBpp0297139\tRFX2|ENSP00000306335\t56.442\t489\t187\t7\t576\t1055\t200\t671\t7.63e-179\t540\n",
      "FBpp0297139\tRFX1|ENSP00000254325\t53.707\t499\t199\t6\t568\t1055\t431\t908\t3.54e-171\t529\n",
      "FBpp0297139\tRFX4|ENSP00000350552\t35.244\t471\t238\t8\t574\t1038\t69\t478\t5.85e-079\t274\n",
      "FBpp0297139\tRFX6|ENSP00000332208\t32.544\t507\t246\t11\t575\t1058\t124\t557\t9.28e-073\t260\n",
      "FBpp0297139\tRFX8|ENSP00000401536\t23.871\t310\t193\t5\t767\t1060\t68\t350\t2.34e-017\t86.3\n",
      "FBpp0297139\tRFX7|ENSP00000453281\t41.667\t72\t42\t0\t578\t649\t14\t85\t2.20e-013\t74.7\n",
      "FBpp0297139\tRFX5|ENSP00000290524\t40.541\t74\t43\t1\t577\t649\t94\t167\t2.32e-011\t67.8\n",
      "FBpp0297139\tARID2|ENSP00000335044\t24.000\t75\t53\t2\t577\t647\t526\t600\t0.095\t36.6\n",
      "# BLAST processed 2 queries\n"
     ]
    }
   ],
   "source": [
    "file_gamak = open('blastn_gamak.txt','r')\n",
    "file_taxon = open('GreenGene_135.79_otus_taxonomy.txt','r')\n",
    "file_hofw = open('human_ortho.txt','r')\n",
    "\n",
    "read_gamak = file_gamak.readlines()\n",
    "read_taxon = file_taxon.readlines()\n",
    "read_hofw = file_hofw.readlines()\n",
    "\n",
    "gamak = dict()\n",
    "taxon = dict()\n",
    "\n",
    "gamak_list = {}\n",
    "for line in read_gamak:\n",
    "    if line.startswith('#'):\n",
    "        switch = 1\n",
    "        continue\n",
    "    else:\n",
    "        if switch == 1:\n",
    "            gamak_list = line.strip().split('\\t')\n",
    "            gamak_name = gamak_list[0]\n",
    "            gamak[gamak_name] = gamak_list[1]\n",
    "            switch = 0\n",
    "        else:\n",
    "            continue\n",
    "            \n",
    "        \n",
    "for line in read_taxon:\n",
    "    taxon_value = line.strip().split('\\t')[0]\n",
    "    taxon[taxon_value] = line.strip().split('\\t')[1]\n",
    "    \n",
    "for k1,v1 in gamak.items():\n",
    "    for k2,v2 in taxon.items():\n",
    "        if v1 == k2:\n",
    "            gamak[k1] = v2\n",
    "        else:\n",
    "            continue\n",
    "\n",
    "print('Homework #4-1','\\n','-----------------------------------------------------------------')\n",
    "\n",
    "for k1,v1 in gamak.items():\n",
    "    print(k1,'\\n',v1)\n",
    "\n",
    "print('\\n')\n",
    "print('Homework #4-2','\\n','------------------------------------------------------------------')\n",
    "\n",
    "for line in read_hofw:\n",
    "    print(line.strip('\\n'))\n",
    "    \n",
    "file_gamak.close()\n",
    "file_taxon.close()\n",
    "file_hofw.close()"
   ]
  },
  {
   "cell_type": "code",
   "execution_count": null,
   "metadata": {
    "collapsed": true
   },
   "outputs": [],
   "source": []
  }
 ],
 "metadata": {
  "kernelspec": {
   "display_name": "Python 3",
   "language": "python",
   "name": "python3"
  },
  "language_info": {
   "codemirror_mode": {
    "name": "ipython",
    "version": 3
   },
   "file_extension": ".py",
   "mimetype": "text/x-python",
   "name": "python",
   "nbconvert_exporter": "python",
   "pygments_lexer": "ipython3",
   "version": "3.6.0"
  }
 },
 "nbformat": 4,
 "nbformat_minor": 2
}
