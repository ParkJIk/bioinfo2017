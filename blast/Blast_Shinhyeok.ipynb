{
 "cells": [
  {
   "cell_type": "code",
   "execution_count": 10,
   "metadata": {
    "collapsed": false
   },
   "outputs": [
    {
     "name": "stdout",
     "output_type": "stream",
     "text": [
      "Input|accuracy\n",
      "GamakSite1Raw_91546|91.228\n",
      "354006\tk__Bacteria; p__Proteobacteria; c__Alphaproteobacteria; o__Sphingomonadales; f__Erythrobacteraceae; g__Erythrobacter; s__\n",
      "GamakSite2Raw_39621|92.763\n",
      "354006\tk__Bacteria; p__Proteobacteria; c__Alphaproteobacteria; o__Sphingomonadales; f__Erythrobacteraceae; g__Erythrobacter; s__\n",
      "GamakSite1Raw_58480|86.985\n",
      "4463866\tk__Bacteria; p__Bacteroidetes; c__Bacteroidia; o__Bacteroidales; f__Porphyromonadaceae; g__; s__\n",
      "GamakSite2Raw_102642|90.281\n",
      "4463866\tk__Bacteria; p__Bacteroidetes; c__Bacteroidia; o__Bacteroidales; f__Porphyromonadaceae; g__; s__\n",
      "\n",
      "# Fields: query acc.ver, subject acc.ver, % identity, alignment length, mismatches, gap opens, q. start, q. end, s. start, s. end, evalue, bit score\n",
      "F33H1.1b\tRFX3|ENSP00000371434\t36.767\t563\t270\t14\t261\t798\t184\t685\t2.55e-107\t345\n",
      "FBpp0297139\tRFX3|ENSP00000371434\t56.619\t491\t184\t8\t576\t1055\t184\t656\t0.0\t550\n"
     ]
    }
   ],
   "source": [
    "#../Downloads/ncbi-blast-2.6.0+/bin/makeblastdb -in GreenGene_135.79_otus_rep.fa  -out GreenGene -dbtype nucl\n",
    "#../Downloads/ncbi-blast-2.6.0+/bin/blastn -db GreenGene -query GamakSeq.fa -out Gamak.txt -outfmt 7 -num_alignments 16 -evalue 1e0\n",
    "#../Downloads/ncbi-blast-2.6.0+/bin/makeblastdb -in HUMAN_ens80_prot_longest.fa  -out hum -dbtype prot\n",
    "#../Downloads/ncbi-blast-2.6.0+/bin/blastp -db hum -query fly+worm.pep.fa -out fw.txt -outfmt 7 -num_alignments 16 -evalue 1e0\n",
    "\n",
    "f_in = open('Gamak.txt','r')\n",
    "f_tax= open('GreenGene_135.79_otus_taxonomy.txt','r')\n",
    "f_fw= open('fw.txt','r')\n",
    "\n",
    "print 'Input|accuracy'\n",
    "dict_species = {}\n",
    "for line in f_in:\n",
    "    if line.startswith('#'):\n",
    "        a = 1\n",
    "        continue\n",
    "    else:\n",
    "        if a == 1:\n",
    "            list1 = line.split()\n",
    "            gamak = list1[0]\n",
    "            target = list1[1]\n",
    "            accuracy = list1[2]\n",
    "            dict_species[gamak+' '+target] = accuracy\n",
    "            a = 0\n",
    "            \n",
    "tax = {}\n",
    "for line in f_tax:\n",
    "    list2 = line.split()\n",
    "    tax[list2[0]]=line\n",
    "\n",
    "for key in dict_species.keys():\n",
    "    gamak,target = key.split()\n",
    "    print(gamak+'|'+dict_species[key]+'\\n'+tax[target].strip())\n",
    "\n",
    "print '\\n# Fields: query acc.ver, subject acc.ver, % identity, alignment length, mismatches, gap opens, q. start, q. end, s. start, s. end, evalue, bit score'\n",
    "for line in f_fw:\n",
    "    if line.startswith('#'):\n",
    "        a = 1\n",
    "        continue\n",
    "    else:\n",
    "        if a == 1:\n",
    "            print line.strip()\n",
    "            a = 0\n",
    "f_in.close()\n",
    "f_tax.close()\n",
    "f_out.close()"
   ]
  }
 ],
 "metadata": {
  "kernelspec": {
   "display_name": "Python 2",
   "language": "python",
   "name": "python2"
  },
  "language_info": {
   "codemirror_mode": {
    "name": "ipython",
    "version": 2
   },
   "file_extension": ".py",
   "mimetype": "text/x-python",
   "name": "python",
   "nbconvert_exporter": "python",
   "pygments_lexer": "ipython2",
   "version": "2.7.12"
  }
 },
 "nbformat": 4,
 "nbformat_minor": 2
}
