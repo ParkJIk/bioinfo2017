{
 "cells": [
  {
   "cell_type": "code",
   "execution_count": 19,
   "metadata": {
    "collapsed": false
   },
   "outputs": [
    {
     "name": "stdout",
     "output_type": "stream",
     "text": [
      "GamakSite1Raw_58480 86.985\n",
      "4463866\tk__Bacteria; p__Bacteroidetes; c__Bacteroidia; o__Bacteroidales; f__Porphyromonadaceae; g__; s__\n",
      "\n",
      "GamakSite2Raw_102642 90.281\n",
      "4463866\tk__Bacteria; p__Bacteroidetes; c__Bacteroidia; o__Bacteroidales; f__Porphyromonadaceae; g__; s__\n",
      "\n",
      "GamakSite2Raw_39621 92.763\n",
      "354006\tk__Bacteria; p__Proteobacteria; c__Alphaproteobacteria; o__Sphingomonadales; f__Erythrobacteraceae; g__Erythrobacter; s__\n",
      "\n",
      "GamakSite1Raw_91546 91.228\n",
      "354006\tk__Bacteria; p__Proteobacteria; c__Alphaproteobacteria; o__Sphingomonadales; f__Erythrobacteraceae; g__Erythrobacter; s__\n",
      "\n"
     ]
    }
   ],
   "source": [
    "#HW4-1\n",
    "f_db_c = open('GamakGG.txt', 'r')\n",
    "f_db_l = open('GreenGene_135.79_otus_taxonomy.txt', 'r')\n",
    "\n",
    "dict_db = []\n",
    "db = {}\n",
    "for line in f_db_c:\n",
    "    if line.startswith('#'):\n",
    "        count = 1\n",
    "    else:\n",
    "        if count == 1:\n",
    "            listac = line.split()\n",
    "            quname = listac[0]\n",
    "            sjname = listac[1]\n",
    "            accu = listac[2]\n",
    "            count = 0\n",
    "            for line in f_db_l:\n",
    "                listcp = line.split()\n",
    "                db[listcp[0]] = line\n",
    "            print(quname, accu)\n",
    "            print(db[sjname])\n",
    "f_db_c.close()\n",
    "f_db_l.close()"
   ]
  },
  {
   "cell_type": "code",
   "execution_count": 20,
   "metadata": {
    "collapsed": false
   },
   "outputs": [
    {
     "name": "stdout",
     "output_type": "stream",
     "text": [
      "Fields: query acc.ver, subject acc.ver, % identity, alignment length, mismatches, gap opens, q. start, q. end, s. start, s. end, evalue, bit score\n",
      "F33H1.1b\tRFX3|ENSP00000371434\t36.767\t563\t270\t14\t261\t798\t184\t685\t2.55e-107\t345\n",
      "FBpp0297139\tRFX3|ENSP00000371434\t56.619\t491\t184\t8\t576\t1055\t184\t656\t0.0\t550\n"
     ]
    }
   ],
   "source": [
    "#HW4-2\n",
    "h_f_w_p = open('heplfwp.txt', 'r')\n",
    "\n",
    "print('Fields: query acc.ver, subject acc.ver, % identity, alignment length, mismatches, gap opens, q. start, q. end, s. start, s. end, evalue, bit score')\n",
    "for line in h_f_w_p:\n",
    "    if line.startswith('#'):\n",
    "        num = 1\n",
    "    else:\n",
    "        if num == 1:\n",
    "            print(line.strip())\n",
    "            num = 0\n",
    "h_f_w_p.close()"
   ]
  },
  {
   "cell_type": "code",
   "execution_count": null,
   "metadata": {
    "collapsed": true
   },
   "outputs": [],
   "source": []
  }
 ],
 "metadata": {
  "kernelspec": {
   "display_name": "Python 3",
   "language": "python",
   "name": "python3"
  },
  "language_info": {
   "codemirror_mode": {
    "name": "ipython",
    "version": 3
   },
   "file_extension": ".py",
   "mimetype": "text/x-python",
   "name": "python",
   "nbconvert_exporter": "python",
   "pygments_lexer": "ipython3",
   "version": "3.6.0"
  }
 },
 "nbformat": 4,
 "nbformat_minor": 2
}
