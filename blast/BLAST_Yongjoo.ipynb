{
 "cells": [
  {
   "cell_type": "markdown",
   "metadata": {},
   "source": [
    "Homework #3-1"
   ]
  },
  {
   "cell_type": "code",
   "execution_count": 31,
   "metadata": {
    "collapsed": false
   },
   "outputs": [
    {
     "name": "stdout",
     "output_type": "stream",
     "text": [
      "GamakSite1Raw_58480\n",
      "k__Bacteria; p__Bacteroidetes; c__Bacteroidia; o__Bacteroidales; f__Porphyromonadaceae; g__; s__\n",
      "Score = 518 bits (280),  Expect = 7e-148 \n",
      "\n",
      "GamakSite2Raw_102642\n",
      "k__Bacteria; p__Bacteroidetes; c__Bacteroidia; o__Bacteroidales; f__Porphyromonadaceae; g__; s__\n",
      "Score = 601 bits (325),  Expect = 7e-173 \n",
      "\n",
      "GamakSite2Raw_39621\n",
      "k__Bacteria; p__Proteobacteria; c__Alphaproteobacteria; o__Sphingomonadales; f__Erythrobacteraceae; g__Erythrobacter; s__\n",
      "Score = 645 bits (349),  Expect = 0.0 \n",
      "\n",
      "GamakSite1Raw_91546\n",
      "k__Bacteria; p__Proteobacteria; c__Alphaproteobacteria; o__Sphingomonadales; f__Erythrobacteraceae; g__Erythrobacter; s__\n",
      "Score = 606 bits (328),  Expect = 1e-174 \n",
      "\n"
     ]
    }
   ],
   "source": [
    "f_gamak = open('GamaSeq.txt','r') # GamaSeq.txt = GamakSeq.GreenGene_135.79_otus_rep.blast_out\n",
    "f_greengene = open('GreenGene_135.79_otus_taxonomy.txt','r')\n",
    "\n",
    "query_list = [] # list for 4 GamakSequences: ['GamakSite1Raw_58480', 'GamakSite2Raw_102642', 'GamakSite2Raw_39621', 'GamakSite1Raw_91546']\n",
    "query_dict = {} # ex) 'GamakSite1Raw_58480': '4463866'\n",
    "blast_score = {} # ex) 'GamakSite1Raw_58480': 'Score = 518 bits (280),  Expect = 7e-148'\n",
    "switch = 0\n",
    "\n",
    "for line in f_gamak: # absorbing data from BLAST file\n",
    "    if line.startswith('Query='):\n",
    "        query = line.strip().split()[1]\n",
    "        query_list.append(query)\n",
    "        query_dict[query] = ''\n",
    "        switch = 1\n",
    "    if line.startswith('>') and switch == 1:\n",
    "        query_dict[query] = line.strip().lstrip('> ')\n",
    "    if line.startswith(' Score') and switch == 1: # to attain blast_score\n",
    "        blast_score[query] = line.strip()\n",
    "        switch = 0\n",
    "        \n",
    "        \n",
    "green_dict = {}\n",
    "\n",
    "for line in f_greengene: # making a dictionary of GreenGene\n",
    "    green_id = line.strip().split()[0]\n",
    "    green_dict[green_id] = line.strip().lstrip(green_id+'\\t')\n",
    "\n",
    "f_gamak.close()\n",
    "f_greengene.close()\n",
    "\n",
    "for n in range(len(query_list)):\n",
    "    print(query_list[n])\n",
    "    print(green_dict[query_dict[query_list[n]]])\n",
    "    print(blast_score[query_list[n]], '\\n')"
   ]
  },
  {
   "cell_type": "markdown",
   "metadata": {
    "collapsed": true
   },
   "source": [
    "Homework #3-2"
   ]
  },
  {
   "cell_type": "code",
   "execution_count": 27,
   "metadata": {
    "collapsed": false
   },
   "outputs": [
    {
     "name": "stdout",
     "output_type": "stream",
     "text": [
      "# Fields: query id, subject id, % identity, alignment length, mismatches, gap opens, q. start, q. end, s. start, s. end, evalue, bit score\n",
      "F33H1.1b\tRFX3|ENSP00000371434\t36.77\t563\t270\t14\t261\t798\t184\t685\t5e-106\t345\n",
      "F33H1.1b\tRFX2|ENSP00000306335\t34.04\t658\t295\t17\t190\t771\t75\t669\t7e-105\t342\n",
      "F33H1.1b\tRFX1|ENSP00000254325\t37.85\t325\t180\t4\t476\t783\t599\t918\t2e-064\t233\n",
      "F33H1.1b\tRFX1|ENSP00000254325\t72.94\t85\t22\t1\t255\t338\t433\t517\t1e-033\t139\n",
      "FBpp0297139\tRFX3|ENSP00000371434\t56.62\t491\t184\t8\t576\t1055\t184\t656\t2e-180\t550\n",
      "FBpp0297139\tRFX2|ENSP00000306335\t56.44\t489\t187\t7\t576\t1055\t200\t671\t4e-177\t540\n",
      "FBpp0297139\tRFX1|ENSP00000254325\t53.71\t499\t199\t6\t568\t1055\t431\t908\t1e-169\t529\n",
      "FBpp0297139\tRFX4|ENSP00000350552\t35.24\t471\t238\t8\t574\t1038\t69\t478\t2e-078\t274\n"
     ]
    }
   ],
   "source": [
    "f = open('flyworm_human_orthologs.txt','r') # flyworm_human_orthologs.txt is -outfmt 7\n",
    "\n",
    "print('# Fields: query id, subject id, % identity, alignment length, mismatches, gap opens, q. start, q. end, s. start, s. end, evalue, bit score')\n",
    "\n",
    "for line in f:\n",
    "    if line.startswith('#'):\n",
    "        candidates = 4 # 4 humanprotein candidates of orthologs of given fly and worm proteins\n",
    "    elif candidates > 0:\n",
    "        print(line.strip())\n",
    "        candidates -= 1"
   ]
  },
  {
   "cell_type": "code",
   "execution_count": null,
   "metadata": {
    "collapsed": true
   },
   "outputs": [],
   "source": []
  }
 ],
 "metadata": {
  "kernelspec": {
   "display_name": "Python 3",
   "language": "python",
   "name": "python3"
  },
  "language_info": {
   "codemirror_mode": {
    "name": "ipython",
    "version": 3
   },
   "file_extension": ".py",
   "mimetype": "text/x-python",
   "name": "python",
   "nbconvert_exporter": "python",
   "pygments_lexer": "ipython3",
   "version": "3.6.0"
  }
 },
 "nbformat": 4,
 "nbformat_minor": 2
}
