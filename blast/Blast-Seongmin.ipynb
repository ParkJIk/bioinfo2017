{
 "cells": [
  {
   "cell_type": "code",
   "execution_count": 24,
   "metadata": {
    "collapsed": false
   },
   "outputs": [
    {
     "name": "stdout",
     "output_type": "stream",
     "text": [
      "#Bacterial species\n",
      "GamakSite1Raw_91546 \n",
      "k__Bacteria; p__Proteobacteria; c__Alphaproteobacteria; o__Sphingomonadales; f__Erythrobacteraceae; g__Erythrobacter; s__\n",
      "GamakSite1Raw_58480 \n",
      "k__Bacteria; p__Bacteroidetes; c__Bacteroidia; o__Bacteroidales; f__Porphyromonadaceae; g__; s__\n",
      "GamakSite2Raw_39621 \n",
      "k__Bacteria; p__Proteobacteria; c__Alphaproteobacteria; o__Sphingomonadales; f__Erythrobacteraceae; g__Erythrobacter; s__\n",
      "GamakSite2Raw_102642 \n",
      "k__Bacteria; p__Bacteroidetes; c__Bacteroidia; o__Bacteroidales; f__Porphyromonadaceae; g__; s__\n",
      "\n",
      "#Human orthologs of fly & worm protein\n",
      "F33H1.1b \n",
      "RFX3|ENSP00000371434\n",
      "FBpp0297139 \n",
      "RFX3|ENSP00000371434\n"
     ]
    }
   ],
   "source": [
    "file1 = open('bioinfo2017/otus_bact.txt','r')\n",
    "file2 = open('bioinfo2017/HFW.txt','r')\n",
    "file3 = open('bioinfo2017/GreenGene_135.79_otus_taxonomy.txt','r')\n",
    "\n",
    "otus = dict()\n",
    "hfw = dict()\n",
    "tox = dict()\n",
    "for line in file1:\n",
    "    if line.startswith('#'):\n",
    "        continue\n",
    "    else:\n",
    "        token = line.strip().split('\\t')\n",
    "        if (not otus.has_key(token[0])):\n",
    "            otus[token[0]] = line.strip()\n",
    "        else:\n",
    "            if(float(otus[token[0]].split('\\t')[11]) < float(token[11])):\n",
    "                otus[token[0]] = line.strip()\n",
    "\n",
    "for line in file2:\n",
    "    if line.startswith('#'):\n",
    "        continue\n",
    "    else:\n",
    "        token = line.strip().split('\\t')\n",
    "        if (not hfw.has_key(token[0])):\n",
    "            hfw[token[0]] = line.strip()\n",
    "        else:\n",
    "            if(float(hfw[token[0]].split('\\t')[11]) < float(token[11])):\n",
    "                hfw[token[0]] = line.strip()\n",
    "                \n",
    "for line in file3:\n",
    "    token = line.strip().split('\\t')\n",
    "    if (not tox.has_key(token[0])):\n",
    "        tox[token[0]] = token[1]\n",
    "\n",
    "print '#Bacterial species'\n",
    "for ko,vo in otus.items():\n",
    "    for kt,vt in tox.items():\n",
    "        if (vo.split('\\t')[1] == kt):\n",
    "                print ko,'\\n', vt\n",
    "\n",
    "print '\\n#Human orthologs of fly & worm protein'                \n",
    "for k,v in hfw.items():\n",
    "    print k,'\\n',v.split('\\t')[1]\n",
    "    \n",
    "file1.close()\n",
    "file2.close()\n",
    "file3.close()"
   ]
  }
 ],
 "metadata": {
  "kernelspec": {
   "display_name": "Python 2",
   "language": "python",
   "name": "python2"
  },
  "language_info": {
   "codemirror_mode": {
    "name": "ipython",
    "version": 2
   },
   "file_extension": ".py",
   "mimetype": "text/x-python",
   "name": "python",
   "nbconvert_exporter": "python",
   "pygments_lexer": "ipython2",
   "version": "2.7.12"
  }
 },
 "nbformat": 4,
 "nbformat_minor": 2
}
