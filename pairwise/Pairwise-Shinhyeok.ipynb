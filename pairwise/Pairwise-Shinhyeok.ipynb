{
 "cells": [
  {
   "cell_type": "code",
   "execution_count": 12,
   "metadata": {
    "collapsed": false
   },
   "outputs": [
    {
     "name": "stdout",
     "output_type": "stream",
     "text": [
      "Mus musculus 374.0\n",
      "MALLVHFLPLLALLALWEPKPTQAFVKQHLCGPHLVEALYLVCGERGFFYTPKSRREVEDPQVEQLELGGSPGDLQTLALEVARQKRGIVDQCCTSICSLYQLENYCN\n",
      "Xenopus laevis 212.0\n",
      "MALWMQCLPLVLVLFFSTPNTEALVNQHLCGSHLVEALYLVCGDRGFFYYPKVKRDMEQALVSGPQDNELDGMQLQPQEYQKMKRGIVEQCCHSTCSLFQLESYCN\n",
      "Danio rerio 108.0\n",
      "MAVWLQAGALLVLLVVSSVSTNPGTPQHLCGSHLVDALYLVCGPTGFFYNPKRDVEPLLGFLPPKSAQETEVADFAFKDHAELIRKRGIVEQCCHKPCSIFELQNYCN\n",
      "Bos taurus 376.0\n",
      "MALWTRLRPLLALLALWPPPPARAFVNQHLCGSHLVEALYLVCGERGFFYTPKARREVEGPQVGALELAGGPGAGGLEGPPQKRGIVEQCCASVCSLYQLENYCN\n",
      "Sus scrofa 437.0\n",
      "MALWTRLLPLLALLALWAPAPAQAFVNQHLCGSHLVEALYLVCGERGFFYTPKARREAENPQAGAVELGGGLGGLQALALEGPPQKRGIVEQCCTSICSLYQLENYCN\n",
      "Homo sapiens 550.0\n",
      "MALWMRLLPLLALLALWGPDPAAAFVNQHLCGSHLVEALYLVCGERGFFYTPKTRREAEDLQVGQVELGGGPGAGSLQPLALEGSLQKRGIVEQCCTSICSLYQLENYCN\n",
      "Gallus gallus 265.0\n",
      "MALWIRSLPLLALLVFSGPGTSYAAANQHLCGSHLVEALYLVCGERGFFYSPKARRDVEQPLVSSPLRGEAGVLPFQQEEYEKVKRGIVEQCCHNTCSLYQLENYCN\n"
     ]
    }
   ],
   "source": [
    "import numpy as np\n",
    "\n",
    "seq_list = {}\n",
    "f_fa = open('insulin_pep.uniprot.fa','r')\n",
    "for line in f_fa:\n",
    "    if line.startswith('>'):\n",
    "        seq_h = line.strip()\n",
    "        seq_list[seq_h] = ''\n",
    "    else:\n",
    "        seq_list[seq_h] += line.strip()\n",
    "f_fa.close()\n",
    "\n",
    "human_insulin = seq_list['>sp|P01308|INS_HUMAN Insulin OS=Homo sapiens GN=INS PE=1 SV=1']\n",
    "\n",
    "a = 0\n",
    "for key,value in seq_list.items():\n",
    "    scoring = np.zeros([len(human_insulin)+1,len(value)+1])\n",
    "    tmp_seq = ''\n",
    "    os = key.split()[2:4]\n",
    "    name = os[0][3:] + ' ' + os[1]\n",
    "    for i in range(len(human_insulin)+1):\n",
    "        scoring[i,0] = -6*i\n",
    "    for j in range(len(value)+1):\n",
    "        scoring[0,j] = -6*j\n",
    "    for i in range(1,len(human_insulin)+1):\n",
    "        for j in range(1,len(value)+1):\n",
    "            if human_insulin[i-1] == value[j-1]:\n",
    "                tmp_score = scoring[i-1,j-1]+5\n",
    "            else:\n",
    "                tmp_score = scoring[i-1,j-1]-2\n",
    "            scoring[i,j] = max(tmp_score,scoring[i,j-1]-6,scoring[i-1,j]-6)\n",
    "        if scoring[i,j] == tmp_score:\n",
    "            tmp_seq += value[j-1]\n",
    "        else:\n",
    "            tmp_seq += '-'\n",
    "    print name,scoring[i,j]\n",
    "    print value\n"
   ]
  },
  {
   "cell_type": "code",
   "execution_count": null,
   "metadata": {
    "collapsed": true
   },
   "outputs": [],
   "source": []
  }
 ],
 "metadata": {
  "kernelspec": {
   "display_name": "Python 2",
   "language": "python",
   "name": "python2"
  },
  "language_info": {
   "codemirror_mode": {
    "name": "ipython",
    "version": 2
   },
   "file_extension": ".py",
   "mimetype": "text/x-python",
   "name": "python",
   "nbconvert_exporter": "python",
   "pygments_lexer": "ipython2",
   "version": "2.7.13"
  }
 },
 "nbformat": 4,
 "nbformat_minor": 2
}
