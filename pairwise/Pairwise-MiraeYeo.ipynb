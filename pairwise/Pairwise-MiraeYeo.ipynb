{
 "cells": [
  {
   "cell_type": "code",
   "execution_count": 11,
   "metadata": {
    "collapsed": false,
    "scrolled": false
   },
   "outputs": [
    {
     "name": "stdout",
     "output_type": "stream",
     "text": [
      "Choose an organism (human, pig, bovin, mouse, chick, xenla, danre): human\n",
      "-> The human insulin sequence is MALWMRLLPLLALLALWGPDPAAAFVNQHLCGSHLVEALYLVCGERGFFYTPKTRREAEDLQVGQVELGGGPGAGSLQPLALEGSLQKRGIVEQCCTSICSLYQLENYCN \n",
      "\n",
      "Choose an another organism (human, pig, bovin, mouse, chick, xenla, danre): xenla\n",
      "-> The xenla insulin sequence is MALWMQCLPLVLVLFFSTPNTEALVNQHLCGSHLVEALYLVCGDRGFFYYPKVKRDMEQALVSGPQDNELDGMQLQPQEYQKMKRGIVEQCCHSTCSLFQLESYCN \n",
      "\n",
      "The score between human and xenla is 13\n"
     ]
    }
   ],
   "source": [
    "def ins_choice(choice):\n",
    "    ins_set = dict(ins_human = 'MALWMRLLPLLALLALWGPDPAAAFVNQHLCGSHLVEALYLVCGERGFFYTPKTRREAEDLQVGQVELGGGPGAGSLQPLALEGSLQKRGIVEQCCTSICSLYQLENYCN',\n",
    "            ins_pig = 'MALWTRLLPLLALLALWAPAPAQAFVNQHLCGSHLVEALYLVCGERGFFYTPKARREAENPQAGAVELGGGLGGLQALALEGPPQKRGIVEQCCTSICSLYQLENYCN',\n",
    "            ins_bovin = 'MALWTRLRPLLALLALWPPPPARAFVNQHLCGSHLVEALYLVCGERGFFYTPKARREVEGPQVGALELAGGPGAGGLEGPPQKRGIVEQCCASVCSLYQLENYCN',\n",
    "            ins_mouse = 'MALLVHFLPLLALLALWEPKPTQAFVKQHLCGPHLVEALYLVCGERGFFYTPKSRREVEDPQVEQLELGGSPGDLQTLALEVARQKRGIVDQCCTSICSLYQLENYCN',\n",
    "            ins_chick = 'MALWIRSLPLLALLVFSGPGTSYAAANQHLCGSHLVEALYLVCGERGFFYSPKARRDVEQPLVSSPLRGEAGVLPFQQEEYEKVKRGIVEQCCHNTCSLYQLENYCN',\n",
    "            ins_xenla = 'MALWMQCLPLVLVLFFSTPNTEALVNQHLCGSHLVEALYLVCGDRGFFYYPKVKRDMEQALVSGPQDNELDGMQLQPQEYQKMKRGIVEQCCHSTCSLFQLESYCN',\n",
    "            ins_danre = 'MAVWLQAGALLVLLVVSSVSTNPGTPQHLCGSHLVDALYLVCGPTGFFYNPKRDVEPLLGFLPPKSAQETEVADFAFKDHAELIRKRGIVEQCCHKPCSIFELQNYCN')\n",
    "    if choice == \"human\":\n",
    "        ins_select = ins_set['ins_human']\n",
    "        return ins_select\n",
    "    elif choice == \"pig\":\n",
    "        ins_select = ins_set['ins_pig']\n",
    "        return ins_select\n",
    "    elif choice == \"bovin\":\n",
    "        ins_select = ins_set['ins_bovin']\n",
    "        return ins_select\n",
    "    elif choice == \"mouse\":\n",
    "        ins_select = ins_set['ins_mouse']\n",
    "        return ins_select\n",
    "    elif choice == \"chick\":\n",
    "        ins_select = ins_set['ins_chick']\n",
    "        return ins_select\n",
    "    elif choice == \"xenla\":\n",
    "        ins_select = ins_set['ins_xenla']\n",
    "        return ins_select\n",
    "    elif choice == \"danre\":\n",
    "        ins_select = ins_set['ins_danre']\n",
    "        return ins_select\n",
    "    else:\n",
    "        print(\"Bye-bye!\")\n",
    "    \n",
    "option1= str(input(\"Choose an organism (human, pig, bovin, mouse, chick, xenla, danre): \"))\n",
    "ins_seq1 = ins_choice(option1)\n",
    "print(\"-> The\", option1, \"insulin sequence is\", ins_seq1, '\\n')\n",
    "\n",
    "option2 = str(input(\"Choose an another organism (human, pig, bovin, mouse, chick, xenla, danre): \"))\n",
    "ins_seq2 = ins_choice(option2)\n",
    "print(\"-> The\", option2, \"insulin sequence is\", ins_seq2, '\\n')\n",
    "    \n",
    "seq_vert = ins_seq1\n",
    "seq_hori = ins_seq2\n",
    "\n",
    "gap = -2\n",
    "match = +1\n",
    "mismatch = -1\n",
    "\n",
    "dyn_matrix = []\n",
    "\n",
    "for i in range(0,len(seq_vert)):\n",
    "    dyn_matrix.append([])\n",
    "    for j in range(0,len(seq_hori)):\n",
    "        if i == 0:\n",
    "            if j == 0:\n",
    "                dyn_matrix[i].append(0)\n",
    "            else:\n",
    "                x = dyn_matrix[i][j-1] + gap\n",
    "                dyn_matrix[i].append(x)\n",
    "        else:\n",
    "            if j == 0:\n",
    "                y = dyn_matrix[i-1][j] + gap\n",
    "                dyn_matrix[i].append(y)\n",
    "            else:\n",
    "                a = dyn_matrix[i-1][j] + gap\n",
    "                b = dyn_matrix[i][j-1] + gap\n",
    "                if seq_vert[i] == seq_hori[j]:\n",
    "                    c = dyn_matrix[i-1][j-1] + match\n",
    "                else:\n",
    "                    c = dyn_matrix[i-1][j-1] + mismatch\n",
    "                opt = [a, b, c]\n",
    "                z = max(opt)\n",
    "                dyn_matrix[i].append(z)\n",
    "                \n",
    "    # print(dyn_matrix[i])\n",
    "\n",
    "print(\"The score between\", option1, \"and\", option2, \"is\", dyn_matrix[len(seq_vert)-1][len(seq_hori)-1])"
   ]
  },
  {
   "cell_type": "code",
   "execution_count": null,
   "metadata": {
    "collapsed": true
   },
   "outputs": [],
   "source": []
  },
  {
   "cell_type": "code",
   "execution_count": null,
   "metadata": {
    "collapsed": true
   },
   "outputs": [],
   "source": []
  }
 ],
 "metadata": {
  "kernelspec": {
   "display_name": "Python 3",
   "language": "python",
   "name": "python3"
  },
  "language_info": {
   "codemirror_mode": {
    "name": "ipython",
    "version": 3
   },
   "file_extension": ".py",
   "mimetype": "text/x-python",
   "name": "python",
   "nbconvert_exporter": "python",
   "pygments_lexer": "ipython3",
   "version": "3.6.0"
  }
 },
 "nbformat": 4,
 "nbformat_minor": 2
}
